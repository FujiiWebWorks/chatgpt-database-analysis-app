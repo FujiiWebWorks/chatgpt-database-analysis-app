{
  "cells": [
    {
      "attachments": {},
      "cell_type": "markdown",
      "metadata": {
        "id": "3Wbr7fsIlAcS"
      },
      "source": [
        "# [STEP4] ChatGPTによる洞察の生成\n",
        "\n",
        "STEP3で得た結果と、データ構造などのメタ情報から、OpenAI APIを用いて洞察を得ました。"
      ]
    },
    {
      "cell_type": "code",
      "execution_count": null,
      "metadata": {},
      "outputs": [],
      "source": [
        "# Pythonライブラリインストール\n",
        "# ※Python 3.10.x　使用推奨\n",
        "!python --version\n",
        "!pip install python-dotenv\n",
        "!pip install --upgrade openai\n",
        "!pip install openai[datalib]\n",
        "\n",
        "!pip install pandas\n",
        "!pip install numpy\n",
        "!pip install matplotlib\n",
        "!pip install plotly\n",
        "!pip install scikit-learn\n",
        "!pip install sqlalchemy\n",
        "\n",
        "!pip install anytree"
      ]
    },
    {
      "attachments": {},
      "cell_type": "markdown",
      "metadata": {},
      "source": [
        "## 環境変数\n",
        "supabase接続用URL,APIキーと、openai api接続用のAPIキーを設定します。\n",
        "自身のopenaiアカウントからapi keyを取得してください。\n",
        "\n",
        "https://platform.openai.com/account/api-keys\n",
        "\n",
        "supabaseの情報は管理者にお尋ねください。\n",
        "\n",
        "下記の例では、.envファイルに変数を書き込んで、JupiterNotebookで読み込む仕様で実装しております。\n",
        "\n",
        "※.envファイルの作成が困難、.envファイルから値を読み込めない場合、\n",
        "　os.getenv(\"◯◯\")部分に変数値を直接書き込んでいただいても動作自体には問題ありません。"
      ]
    },
    {
      "cell_type": "code",
      "execution_count": 61,
      "metadata": {
        "colab": {
          "base_uri": "https://localhost:8080/",
          "height": 17
        },
        "id": "4XTDUNmukjRT",
        "outputId": "263e8bb3-d37d-464e-e9db-28693cb5bfc1"
      },
      "outputs": [
        {
          "name": "stdout",
          "output_type": "stream",
          "text": [
            "環境変数読み込み完了\n"
          ]
        }
      ],
      "source": [
        "# 環境変数\n",
        "import os\n",
        "from dotenv import load_dotenv\n",
        "\n",
        "import pandas as pd\n",
        "from sqlalchemy import create_engine\n",
        "from sqlalchemy import text\n",
        "import urllib.parse\n",
        "from IPython.display import display\n",
        "from anytree import Node, RenderTree, AsciiStyle\n",
        "import openai\n",
        "\n",
        "load_dotenv()\n",
        "\n",
        "# supabase接続用変数\n",
        "db_host = os.getenv(\"DB_HOST\")\n",
        "db_port = os.getenv(\"DB_PORT\")\n",
        "db_name = os.getenv(\"DB_NAME\")\n",
        "db_user = os.getenv(\"DB_USER\")\n",
        "db_pass = os.getenv(\"DB_PASS\")\n",
        "\n",
        "# OPENAI API KEY\n",
        "openai_api_key = os.getenv(\"OPENAI_API_KEY\")\n",
        "openai.api_key = openai_api_key\n",
        "\n",
        "\n",
        "# Connect to the database\n",
        "connection_config = {\n",
        "    'user': db_user,\n",
        "    'password': urllib.parse.quote_plus(db_pass),\n",
        "    'host': db_host,\n",
        "    'port': db_port, \n",
        "    'database': db_name\n",
        "}\n",
        "engine = create_engine('postgresql://{user}:{password}@{host}:{port}/{database}'.format(**connection_config))\n",
        "\n",
        "\n",
        "print('環境変数読み込み完了')"
      ]
    },
    {
      "attachments": {},
      "cell_type": "markdown",
      "metadata": {},
      "source": [
        "# 処理実行\n",
        "\n",
        "## 解析1. 大まかな脳領域からの投射関係を出力\n",
        "\n",
        "### 脳の階層構造をテキスト化\n",
        "\n",
        "rootからの全ての脳構造をテキスト化してAPIで送信する場合、トークン送信量の上限を超えてしまうため、STEP3の解析結果に関連するツリー構造のみをフィルタリングしました。"
      ]
    },
    {
      "cell_type": "code",
      "execution_count": 62,
      "metadata": {},
      "outputs": [
        {
          "name": "stdout",
          "output_type": "stream",
          "text": [
            "root(root)\n",
            "+-- grey(Basic cell groups and regions)\n",
            "    |-- BS(Brain stem)\n",
            "    |   +-- IB(Interbrain)\n",
            "    |       +-- TH(Thalamus)\n",
            "    |           |-- DORpm(Thalamus, polymodal association cortex related)\n",
            "    |           |   |-- ILM(Intralaminar nuclei of the dorsal thalamus)\n",
            "    |           |   |   |-- PCN(Paracentral nucleus)\n",
            "    |           |   |   +-- CM(Central medial nucleus of the thalamus)\n",
            "    |           |   |-- LAT(Lateral group of the dorsal thalamus)\n",
            "    |           |   |   +-- PO(Posterior complex of the thalamus)\n",
            "    |           |   +-- RT(Reticular nucleus of the thalamus)\n",
            "    |           +-- DORsm(Thalamus, sensory-motor cortex related)\n",
            "    |               +-- VENT(Ventral group of the dorsal thalamus)\n",
            "    |                   |-- VM(Ventral medial nucleus of the thalamus)\n",
            "    |                   +-- VAL(Ventral anterior-lateral complex of the thalamus)\n",
            "    +-- CH(Cerebrum)\n",
            "        |-- CNU(Cerebral nuclei)\n",
            "        |   +-- STR(Striatum)\n",
            "        |       +-- STRd(Striatum dorsal region)\n",
            "        |           +-- CP(Caudoputamen)\n",
            "        +-- CTX(Cerebral cortex)\n",
            "            +-- CTXpl(Cortical plate)\n",
            "                +-- Isocortex(Isocortex)\n",
            "                    |-- MO(Somatomotor areas)\n",
            "                    |   |-- MOp(Primary motor area)\n",
            "                    |   |   |-- MOp6a(Primary motor area, Layer 6a)\n",
            "                    |   |   |-- MOp2/3(Primary motor area, Layer 2/3)\n",
            "                    |   |   +-- MOp1(Primary motor area, Layer 1)\n",
            "                    |   +-- MOs(Secondary motor area)\n",
            "                    |       |-- MOs1(Secondary motor area, layer 1)\n",
            "                    |       |-- MOs6a(Secondary motor area, layer 6a)\n",
            "                    |       |-- MOs5(Secondary motor area, layer 5)\n",
            "                    |       +-- MOs2/3(Secondary motor area, layer 2/3)\n",
            "                    |-- ORB(Orbital area)\n",
            "                    |   +-- ORBl(Orbital area, lateral part)\n",
            "                    |       |-- ORBl6a(Orbital area, lateral part, layer 6a)\n",
            "                    |       +-- ORBl5(Orbital area, lateral part, layer 5)\n",
            "                    +-- AI(Agranular insular area)\n",
            "                        +-- AId(Agranular insular area, dorsal part)\n",
            "                            |-- AId6a(Agranular insular area, dorsal part, layer 6a)\n",
            "                            |-- AId5(Agranular insular area, dorsal part, layer 5)\n",
            "                            |-- AId2/3(Agranular insular area, dorsal part, layer 2/3)\n",
            "                            +-- AId1(Agranular insular area, dorsal part, layer 1)\n"
          ]
        }
      ],
      "source": [
        "# STEP3 - 解析1の出力結果\n",
        "selected_structure_ids= [672, 767, 962, 656, 1021, 629, 1101, 685, 328, 1020, 783, 320, 943, 844, 996, 262, 599, 630, 907, 440]\n",
        "selected_structure_list=\"\"\"\n",
        "CP(Caudoputamen)\\n\n",
        "MOs5(Secondary motor area, layer 5)\\n\n",
        "MOs2/3(Secondary motor area, layer 2/3)\\n\n",
        "MOs1(Secondary motor area, layer 1)\\n\n",
        "MOs6a(Secondary motor area, layer 6a)\\n\n",
        "VAL(Ventral anterior-lateral complex of the thalamus)\\n\n",
        "AId5(Agranular insular area, dorsal part, layer 5)\\n\n",
        "VM(Ventral medial nucleus of the thalamus)\\n\n",
        "AId2/3(Agranular insular area, dorsal part, layer 2/3)\\n\n",
        "PO(Posterior complex of the thalamus)\\n\n",
        "AId6a(Agranular insular area, dorsal part, layer 6a)\\n\n",
        "MOp1(Primary motor area, Layer 1)\\n\n",
        "MOp2/3(Primary motor area, Layer 2/3)\\n\n",
        "MOp6a(Primary motor area, Layer 6a)\\n\n",
        "AId1(Agranular insular area, dorsal part, layer 1)\\n\n",
        "RT(Reticular nucleus of the thalamus)\\n\n",
        "CM(Central medial nucleus of the thalamus)\\n\n",
        "ORBl5(Orbital area, lateral part, layer 5)\\n\n",
        "PCN(Paracentral nucleus)\\n\n",
        "ORBl6a(Orbital area, lateral part, layer 6a)\n",
        "\"\"\"\n",
        "\n",
        "\n",
        "\n",
        "# structures要素を全て書き出し\n",
        "sql =\"\"\"\n",
        "SELECT\n",
        "    id,\n",
        "    name,\n",
        "    acronym,\n",
        "    \"st-level\",\n",
        "    \"parent-structure-id\"\n",
        "FROM\n",
        "    structures;\"\"\"\n",
        "with engine.begin() as conn:\n",
        "    query = text(sql)\n",
        "    df_structures = pd.read_sql_query(query, conn)\n",
        "\n",
        "id_parent_dict = df_structures.set_index('id')['parent-structure-id'].to_dict()\n",
        "\n",
        "tree_ids = []\n",
        "for structure_id in selected_structure_ids:\n",
        "    id = structure_id\n",
        "    if id not in tree_ids:\n",
        "        tree_ids.append(id)\n",
        "    # Add the parent nodes to the filtered_nodes dictionary\n",
        "    while id_parent_dict[id] > 0:\n",
        "        id = id_parent_dict[id]\n",
        "        if id not in tree_ids:\n",
        "            tree_ids.append(id)\n",
        "\n",
        "df_structures.loc[:, 'label'] = df_structures['acronym'] + \"(\" + df_structures['name'] + \")\"\n",
        "df = df_structures[df_structures['id'].isin(tree_ids)]\n",
        "\n",
        "\n",
        "# Create a dictionary of anytree Node objects\n",
        "nodes={}\n",
        "for index, row in df.iterrows():\n",
        "    node = Node(row['label'], id=row['id'])\n",
        "    nodes[row['id']] = node\n",
        "\n",
        "# Iterate through the DataFrame, set parent for each node\n",
        "for index, row in df.iterrows():\n",
        "    if row['parent-structure-id'] > 0:\n",
        "        nodes[row['id']].parent = nodes[row['parent-structure-id']]\n",
        "\n",
        "# Iterate through child nodes\n",
        "root_node = nodes[df_structures.loc[df_structures['parent-structure-id']==0]['id'].values[0]]\n",
        "root_render_tree=RenderTree(root_node, style=AsciiStyle()).by_attr()\n",
        "print(root_render_tree)"
      ]
    },
    {
      "attachments": {},
      "cell_type": "markdown",
      "metadata": {},
      "source": [
        "### OpenAI Completion APIを用いて洞察を得る\n",
        "\n",
        "教授と学生というロールモデルを用いて、解析情報を報告するというかたちでCompletion APIを使用しました。"
      ]
    },
    {
      "cell_type": "code",
      "execution_count": 67,
      "metadata": {},
      "outputs": [
        {
          "name": "stdout",
          "output_type": "stream",
          "text": [
            "The results of your analysis show that the injections to the frontal pole (FRP) project to various brain structures, including the caudoputamen, secondary motor area layers, thalamic nuclei, and agranular insular area layers. Let's go through these structures and their potential roles in the mouse brain.\n",
            "\n",
            "1. Caudoputamen (CP): The CP is part of the striatum, which is involved in motor and reward functions. The projection from the FRP to the CP suggests a potential role in modulating motor control and decision-making.\n",
            "\n",
            "2. Secondary motor area (MOs) layers 1, 2/3, 5, and 6a: The MOs is involved in higher-order motor control and planning. Projections from the FRP to these layers suggest a role in integrating cognitive and motor functions for goal-directed behavior.\n",
            "\n",
            "3. Thalamic nuclei: The projections to the ventral anterior-lateral complex (VAL), ventral medial nucleus (VM), posterior complex (PO), reticular nucleus (RT), central medial nucleus (CM), and paracentral nucleus (PCN) suggest involvement in various functions such as sensory processing, motor control, attention, and arousal.\n",
            "\n",
            "4. Agranular insular area, dorsal part (AId) layers 1, 2/3, 5, and 6a: The AId is involved in processing visceral and interoceptive information, as well as emotional and cognitive functions. Projections from the FRP to these layers may indicate a role in integrating emotional and cognitive information for decision-making and behavioral regulation.\n",
            "\n",
            "5. Primary motor area (MOp) layers 1, 2/3, and 6a: The MOp is responsible for controlling voluntary movements. The projections from the FRP to these layers suggest a potential role in modulating motor output based on cognitive and emotional factors.\n",
            "\n",
            "6. Orbital area, lateral part (ORBl) layers 5 and 6a: The ORBl is implicated in processing reward and decision-making. Projections from the FRP to these layers may reflect a role in integrating cognitive and emotional information during decision-making processes.\n",
            "\n",
            "In summary, the results suggest that the frontal pole has widespread connections with various brain structures involved in motor control, sensory processing, emotional regulation, and decision-making. This highlights the complexity of the neural circuits underlying cognitive and behavioral functions in the mouse brain.\n"
          ]
        }
      ],
      "source": [
        "def generate_sql(query:str):\n",
        "    msg = [\n",
        "      {\"role\": \"system\", \"content\": \"You are a professor majoring in mouse brain connectivity. And you have a student analyzing experiment data and studying the neural connections in the mouse brain. In this experiment, a viral tracer is injected into a specimen that labels the axons by expressing a fluorescent protein, and the labeled axons are visualized using serial two-photon tomography.\"},\n",
        "      {\"role\": \"system\", \"content\": \"You know a mouse brain structures like the below described by the tree diagram. \\n----\\n\"+root_render_tree},\n",
        "      {\"role\": \"user\", \"content\": query}\n",
        "    ]\n",
        "    completion = openai.ChatCompletion.create(\n",
        "      model=\"gpt-4\",\n",
        "      messages=msg,\n",
        "      temperature=0.5\n",
        "    )\n",
        "    #print(msg)\n",
        "    #print(completion)\n",
        "    return completion.choices[0].message.content\n",
        "\n",
        "\n",
        "query = \"\"\"\n",
        "I'm your student. I analyzed data and realized that injections to FRP(frontal pole) projected mainly to the brain structures below. Would you teach me some insight into the result? I am glad to tell me details as possible as you can.\n",
        "----\n",
        "\"\"\"+selected_structure_list\n",
        "\n",
        "\n",
        "sql = generate_sql(query)\n",
        "\n",
        "print(sql)"
      ]
    }
  ],
  "metadata": {
    "colab": {
      "provenance": []
    },
    "kernelspec": {
      "display_name": "Python 3",
      "name": "python3"
    },
    "language_info": {
      "codemirror_mode": {
        "name": "ipython",
        "version": 3
      },
      "file_extension": ".py",
      "mimetype": "text/x-python",
      "name": "python",
      "nbconvert_exporter": "python",
      "pygments_lexer": "ipython3",
      "version": "3.10.9"
    }
  },
  "nbformat": 4,
  "nbformat_minor": 0
}
