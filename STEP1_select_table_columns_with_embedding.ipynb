{
  "cells": [
    {
      "attachments": {},
      "cell_type": "markdown",
      "metadata": {
        "id": "3Wbr7fsIlAcS"
      },
      "source": [
        "# [STEP1] Embeddingによるクエリに関連するデータベーステーブル・カラムの選定\n",
        "\n",
        "ユーザーからのクエリ(INPUT)をEmbeddingし、事前処理したテーブルカラムメタデータと比較することで、関連カラムのみを選定します。"
      ]
    },
    {
      "cell_type": "code",
      "execution_count": null,
      "metadata": {},
      "outputs": [],
      "source": [
        "# Pythonライブラリインストール\n",
        "!python --version\n",
        "!pip install psycopg2-binary\n",
        "!pip install python-dotenv\n",
        "!pip install --upgrade openai\n",
        "!pip install openai[datalib]\n",
        "\n",
        "!pip install pandas\n",
        "!pip install numpy\n",
        "!pip install matplotlib\n",
        "!pip install plotly\n",
        "!pip install scikit-learn\n",
        "!pip install sqlalchemy\n"
      ]
    },
    {
      "attachments": {},
      "cell_type": "markdown",
      "metadata": {},
      "source": [
        "## 環境変数\n",
        "supabase接続用URL,APIキーと、openai api接続用のAPIキーを設定します。\n",
        "自身のopenaiアカウントからapi keyを取得してください。\n",
        "\n",
        "https://platform.openai.com/account/api-keys\n",
        "\n",
        "supabaseの情報は管理者にお尋ねください。\n",
        "\n",
        "下記の例では、.envファイルに変数を書き込んで、JupiterNotebookで読み込む仕様で実装しております。\n",
        "\n",
        "※.envファイルの作成が困難、.envファイルから値を読み込めない場合、\n",
        "　os.getenv(\"◯◯\")部分に変数値を直接書き込んでいただいても動作自体には問題ありません。"
      ]
    },
    {
      "cell_type": "code",
      "execution_count": 20,
      "metadata": {
        "colab": {
          "base_uri": "https://localhost:8080/",
          "height": 17
        },
        "id": "4XTDUNmukjRT",
        "outputId": "263e8bb3-d37d-464e-e9db-28693cb5bfc1"
      },
      "outputs": [
        {
          "name": "stdout",
          "output_type": "stream",
          "text": [
            "環境変数読み込み完了\n"
          ]
        }
      ],
      "source": [
        "# 環境変数\n",
        "import os\n",
        "from dotenv import load_dotenv\n",
        "load_dotenv()\n",
        "\n",
        "# supabase接続用変数\n",
        "db_host = os.getenv(\"DB_HOST\")\n",
        "db_port = os.getenv(\"DB_PORT\")\n",
        "db_name = os.getenv(\"DB_NAME\")\n",
        "db_user = os.getenv(\"DB_USER\")\n",
        "db_pass = os.getenv(\"DB_PASS\")\n",
        "\n",
        "# OPENAI API KEY\n",
        "openai_api_key = os.getenv(\"OPENAI_API_KEY\")\n",
        "\n",
        "print('環境変数読み込み完了')"
      ]
    },
    {
      "attachments": {},
      "cell_type": "markdown",
      "metadata": {},
      "source": [
        "# 処理実行\n",
        "## [INPUT] クエリを入力, パラメータを設定"
      ]
    },
    {
      "cell_type": "code",
      "execution_count": null,
      "metadata": {},
      "outputs": [],
      "source": [
        "# INPUTクエリ\n",
        "# 同時にさまざまなパターンで試験を行うため配列形式で保存しています。\n",
        "input_queries = [\n",
        "    \"What is the projection relationship from the frontal pole with respect to the mouse brain?\", # 大まかな脳領域からの投射関係を出力\n",
        "    \"What are the main brain regions that project to the motor area with respect to the mouse brain?\", # 特定の脳部位に対し、投射関係を逆に辿った経路をまとめて出力\n",
        "    \"Is there any differences in the projection relationship to the frontal pole with respect to the brains of male and female mice?\", # 雌雄のマウスでの投射関係の違いを出力\n",
        "]\n",
        "\n",
        "# 選定テーブルカラム数\n",
        "# いくつのテーブルカラムを出力するかを設定します\n",
        "column_selection_number = 5"
      ]
    },
    {
      "attachments": {},
      "cell_type": "markdown",
      "metadata": {},
      "source": [
        "## クエリのEmbeddingメタデータを作成し、テーブルカラムの事前処理済メタデータと比較\n",
        "openai apiのcosine similarityにてEmbedding間の差を比較 \n",
        "\n",
        "※TODO: コード作成中"
      ]
    },
    {
      "cell_type": "code",
      "execution_count": null,
      "metadata": {
        "colab": {
          "base_uri": "https://localhost:8080/"
        },
        "id": "gkBzMSLwewf6",
        "outputId": "3b84bb5b-29c8-47ee-87e7-52a5394c9efe"
      },
      "outputs": [],
      "source": [
        "import psycopg2\n",
        "from psycopg2.extras import DictCursor\n",
        "from openai.embeddings_utils import cosine_similarity\n",
        "import pandas as pd\n",
        "import numpy as np\n",
        "\n",
        "# Connect to the database\n",
        "conn = psycopg2.connect(\n",
        "    dbname=db_name,\n",
        "    user=db_user,\n",
        "    password=db_pass,\n",
        "    host=db_host,\n",
        "    port=db_port\n",
        ")\n",
        "conn.set_isolation_level(psycopg2.extensions.ISOLATION_LEVEL_AUTOCOMMIT)\n",
        "# Open a cursor to perform database operations\n",
        "cur = conn.cursor(cursor_factory=DictCursor)\n",
        "cur.execute('SELECT id,name,acronym FROM structures ORDER BY id ASC;')\n",
        "rows = cur.fetchall()\n",
        "\n",
        "\n",
        "# Use your API key\n",
        "openai.api_key = openai_api_key\n",
        "\n",
        "# Insert OpenAI text embedding model and input\n",
        "my_model = 'text-embedding-ada-002'\n",
        "my_input = '<INSERT_INPUT_HERE>'\n",
        "\n",
        "# Calculate embedding vector for the input using OpenAI Embeddings endpoint\n",
        "def get_embedding(model: str, text: str) -> list[float]:\n",
        "    result = openai.Embedding.create(\n",
        "      model = my_model,\n",
        "      input = my_input\n",
        "    )\n",
        "    return result['data'][0]['embedding']\n",
        "\n",
        "# Save embedding vector of the input\n",
        "input_embedding_vector = get_embedding(my_model, my_input)\n",
        "\n",
        "# Calculate similarity between the input and \"facts\" from companies_embeddings.csv file which we created before\n",
        "df = pd.read_csv('companies_embeddings.csv')\n",
        "df['embedding'] = df['embedding'].apply(eval).apply(np.array)\n",
        "df['similarity'] = df['embedding'].apply(lambda x: cosine_similarity(x, input_embedding_vector))\n",
        "\n",
        "# Find the highest similarity value in the dataframe column 'similarity'\n",
        "highest_similarity = df['similarity'].max()\n",
        "\n",
        "# If the highest similarity value is equal or higher than 0.9 then print the 'content' with the highest similarity\n",
        "if highest_similarity >= 0.9:\n",
        "    fact_with_highest_similarity = df.loc[df['similarity'] == highest_similarity, 'content']\n",
        "    print(fact_with_highest_similarity)\n",
        "# Else pass input to the OpenAI Completions endpoint\n",
        "else:\n",
        "    response = openai.Completion.create(\n",
        "      model = 'text-davinci-003',\n",
        "      prompt = my_input,\n",
        "      max_tokens = 30,\n",
        "      temperature = 0\n",
        "    )\n",
        "    content = response['choices'][0]['text'].replace('\\n', '')\n",
        "    print(content)\n"
      ]
    }
  ],
  "metadata": {
    "colab": {
      "provenance": []
    },
    "kernelspec": {
      "display_name": "Python 3",
      "name": "python3"
    },
    "language_info": {
      "codemirror_mode": {
        "name": "ipython",
        "version": 3
      },
      "file_extension": ".py",
      "mimetype": "text/x-python",
      "name": "python",
      "nbconvert_exporter": "python",
      "pygments_lexer": "ipython3",
      "version": "3.10.9"
    }
  },
  "nbformat": 4,
  "nbformat_minor": 0
}
