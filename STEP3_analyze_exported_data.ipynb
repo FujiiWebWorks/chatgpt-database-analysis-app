{
  "cells": [
    {
      "attachments": {},
      "cell_type": "markdown",
      "metadata": {
        "id": "3Wbr7fsIlAcS"
      },
      "source": [
        "# [STEP3 - 解析1] ChatGPTによる解析方法の提案\n",
        "\n",
        "STEP1, 2で適切なデータセットが得られたと仮定して検証を行いました。（※STEP1, 2のアルゴリズム調整が未対応のため）\n",
        "\n",
        "今回は汎用的な解析アルゴリズムではなく、下記3つの解析カテゴリーについて解析方法を検討しました。"
      ]
    },
    {
      "cell_type": "code",
      "execution_count": null,
      "metadata": {},
      "outputs": [],
      "source": [
        "# Pythonライブラリインストール\n",
        "# ※Python 3.10.x　使用推奨\n",
        "!python --version\n",
        "!pip install python-dotenv\n",
        "!pip install --upgrade openai\n",
        "!pip install openai[datalib]\n",
        "\n",
        "!pip install pandas\n",
        "!pip install numpy\n",
        "!pip install matplotlib\n",
        "!pip install plotly\n",
        "!pip install scikit-learn\n",
        "!pip install sqlalchemy"
      ]
    },
    {
      "attachments": {},
      "cell_type": "markdown",
      "metadata": {},
      "source": [
        "## 環境変数\n",
        "supabase接続用URL,APIキーと、openai api接続用のAPIキーを設定します。\n",
        "自身のopenaiアカウントからapi keyを取得してください。\n",
        "\n",
        "https://platform.openai.com/account/api-keys\n",
        "\n",
        "supabaseの情報は管理者にお尋ねください。\n",
        "\n",
        "下記の例では、.envファイルに変数を書き込んで、JupiterNotebookで読み込む仕様で実装しております。\n",
        "\n",
        "※.envファイルの作成が困難、.envファイルから値を読み込めない場合、\n",
        "　os.getenv(\"◯◯\")部分に変数値を直接書き込んでいただいても動作自体には問題ありません。"
      ]
    },
    {
      "cell_type": "code",
      "execution_count": 30,
      "metadata": {
        "colab": {
          "base_uri": "https://localhost:8080/",
          "height": 17
        },
        "id": "4XTDUNmukjRT",
        "outputId": "263e8bb3-d37d-464e-e9db-28693cb5bfc1"
      },
      "outputs": [
        {
          "name": "stdout",
          "output_type": "stream",
          "text": [
            "環境変数読み込み完了\n"
          ]
        }
      ],
      "source": [
        "# 環境変数\n",
        "import os\n",
        "from dotenv import load_dotenv\n",
        "\n",
        "import pandas as pd\n",
        "from sqlalchemy import create_engine\n",
        "from sqlalchemy import text\n",
        "import urllib.parse\n",
        "from IPython.display import display\n",
        "\n",
        "\n",
        "load_dotenv()\n",
        "\n",
        "# supabase接続用変数\n",
        "db_host = os.getenv(\"DB_HOST\")\n",
        "db_port = os.getenv(\"DB_PORT\")\n",
        "db_name = os.getenv(\"DB_NAME\")\n",
        "db_user = os.getenv(\"DB_USER\")\n",
        "db_pass = os.getenv(\"DB_PASS\")\n",
        "\n",
        "# OPENAI API KEY\n",
        "openai_api_key = os.getenv(\"OPENAI_API_KEY\")\n",
        "\n",
        "\n",
        "# Connect to the database\n",
        "connection_config = {\n",
        "    'user': db_user,\n",
        "    'password': urllib.parse.quote_plus(db_pass),\n",
        "    'host': db_host,\n",
        "    'port': db_port, \n",
        "    'database': db_name\n",
        "}\n",
        "engine = create_engine('postgresql://{user}:{password}@{host}:{port}/{database}'.format(**connection_config))\n",
        "\n",
        "\n",
        "print('環境変数読み込み完了')"
      ]
    },
    {
      "attachments": {},
      "cell_type": "markdown",
      "metadata": {},
      "source": [
        "# 処理実行\n",
        "## 解析1. 大まかな脳領域からの投射関係を出力\n",
        "\n",
        "Frontal Pole (ID:184)から他の脳部位への投射関係について解析しました。\n",
        "解析対象は、脳の階層構造において、子ノードを持たない脳部位に絞っております。\n"
      ]
    },
    {
      "cell_type": "code",
      "execution_count": 31,
      "metadata": {},
      "outputs": [
        {
          "data": {
            "text/plain": [
              "label\n",
              "CP(Caudoputamen)                                          2.440266\n",
              "MOs5(Secondary motor area, layer 5)                       0.961629\n",
              "MOs2/3(Secondary motor area, layer 2/3)                   0.715561\n",
              "MOs1(Secondary motor area, layer 1)                       0.510339\n",
              "MOs6a(Secondary motor area, layer 6a)                     0.338765\n",
              "VAL(Ventral anterior-lateral complex of the thalamus)     0.311510\n",
              "AId5(Agranular insular area, dorsal part, layer 5)        0.301772\n",
              "VM(Ventral medial nucleus of the thalamus)                0.287174\n",
              "AId2/3(Agranular insular area, dorsal part, layer 2/3)    0.217278\n",
              "PO(Posterior complex of the thalamus)                     0.169447\n",
              "AId6a(Agranular insular area, dorsal part, layer 6a)      0.156987\n",
              "MOp1(Primary motor area, Layer 1)                         0.124162\n",
              "MOp2/3(Primary motor area, Layer 2/3)                     0.120033\n",
              "MOp6a(Primary motor area, Layer 6a)                       0.111396\n",
              "AId1(Agranular insular area, dorsal part, layer 1)        0.107286\n",
              "RT(Reticular nucleus of the thalamus)                     0.107157\n",
              "CM(Central medial nucleus of the thalamus)                0.105601\n",
              "ORBl5(Orbital area, lateral part, layer 5)                0.105296\n",
              "PCN(Paracentral nucleus)                                  0.103668\n",
              "ORBl6a(Orbital area, lateral part, layer 6a)              0.082529\n",
              "Name: normalized-projection-volume, dtype: float64"
            ]
          },
          "metadata": {},
          "output_type": "display_data"
        },
        {
          "name": "stdout",
          "output_type": "stream",
          "text": [
            "投射元 structures ids\n",
            "[184, 526322264, 526157192, 526157196, 667, 68]\n",
            "投射先 structures ids\n",
            "[672, 767, 962, 656, 1021, 629, 1101, 685, 328, 1020, 783, 320, 943, 844, 996, 262, 599, 630, 907, 440]\n"
          ]
        }
      ],
      "source": [
        "# 投射元のstructure id\n",
        "# 入力例:\n",
        "#    Frontal Pole (ID:184)\n",
        "#    Primary motor area (ID:985)\n",
        "#    Secondary motor area (ID:993)\n",
        "input_structure_id = 184\n",
        "# 正規化投射量(normalized projection volume)の多い順に{rank_num}項目だけ書き出し\n",
        "rank_num = 20\n",
        "\n",
        "\n",
        "# 子要素を全て書き出し\n",
        "sql =\"\"\"\n",
        "SELECT\n",
        "    id,\n",
        "    name,\n",
        "    acronym,\n",
        "    \"st-level\",\n",
        "    \"parent-structure-id\"\n",
        "FROM\n",
        "    structures;\"\"\"\n",
        "with engine.begin() as conn:\n",
        "    query = text(sql)\n",
        "    df_structures = pd.read_sql_query(query, conn)\n",
        "\n",
        "structure_ids = [input_structure_id]\n",
        "terminal_structure_ids = df_structures.loc[~df_structures['id'].isin(df_structures['parent-structure-id'])]['id']\n",
        "\n",
        "def get_children(parent_id):\n",
        "    return df_structures[df_structures[\"parent-structure-id\"] == parent_id]\n",
        "\n",
        "def build_hierarchy(parent_id, level=0):\n",
        "    children = get_children(parent_id)\n",
        "    hierarchy = {}\n",
        "    for _, child in children.iterrows():\n",
        "        child_id = child[\"id\"]\n",
        "        hierarchy[child_id] = {\"level\": level, \"acronym\": child['acronym'], \"children\": build_hierarchy(child_id, level + 1)}\n",
        "        structure_ids.append(child_id)\n",
        "    return hierarchy\n",
        "\n",
        "hierarchy = build_hierarchy(input_structure_id)\n",
        "\n",
        "\n",
        "# 投射情報\n",
        "sql =\"\"\"\n",
        "SELECT\n",
        "    p.id,\n",
        "    p.\"structure-id\" AS \"projected-structure-id\",\n",
        "    s.name,\n",
        "    s.acronym,\n",
        "    p.\"normalized-projection-volume\",\n",
        "    sp.\"structure-id\"\n",
        "FROM projections AS p\n",
        "    INNER JOIN specimens AS sp ON p.\"experiment-id\" = sp.\"experiment-id\"\n",
        "    INNER JOIN structures AS s ON p.\"structure-id\" = s.id\n",
        "WHERE\n",
        "    sp.\"structure-id\" IN :structure_ids\n",
        "    AND p.\"is-injection\" = false\n",
        "    AND s.\"st-level\" > 5;\n",
        "\"\"\"\n",
        "with engine.begin() as conn:\n",
        "    query = text(sql)\n",
        "    df = pd.read_sql_query(query, conn, params={\"structure_ids\": tuple(structure_ids)})\n",
        "\n",
        "# Filter structures which have no child node\n",
        "df=df[df['projected-structure-id'].isin(terminal_structure_ids)]\n",
        "df=df[~df['projected-structure-id'].isin(structure_ids)]\n",
        "\n",
        "# display(df.sort_values(by=\"normalized-projection-volume\", ascending=False))\n",
        "\n",
        "# Calculate the average volume for each id\n",
        "df_groupby = df.copy()\n",
        "df_groupby.loc[:, 'label'] = df_groupby['acronym'] + \"(\" + df_groupby['name'] + \")\"\n",
        "\n",
        "average_volume = df_groupby.groupby('label')['normalized-projection-volume'].mean()\n",
        "\n",
        "# Sort the average volume\n",
        "sorted_average_volume = average_volume.sort_values(ascending=False)\n",
        "\n",
        "\n",
        "display(sorted_average_volume.head(rank_num))\n",
        "\n",
        "\n",
        "# export only ids\n",
        "average_volume = df_groupby.groupby('projected-structure-id')['normalized-projection-volume'].mean()\n",
        "sorted_average_volume = average_volume.sort_values(ascending=False)\n",
        "ids = sorted_average_volume.head(rank_num)\n",
        "r = ids.index[:rank_num].tolist()\n",
        "\n",
        "print(\"投射元 structures ids\")\n",
        "print(structure_ids)\n",
        "\n",
        "print(\"投射先 structures ids\")\n",
        "print(r)"
      ]
    }
  ],
  "metadata": {
    "colab": {
      "provenance": []
    },
    "kernelspec": {
      "display_name": "Python 3",
      "name": "python3"
    },
    "language_info": {
      "codemirror_mode": {
        "name": "ipython",
        "version": 3
      },
      "file_extension": ".py",
      "mimetype": "text/x-python",
      "name": "python",
      "nbconvert_exporter": "python",
      "pygments_lexer": "ipython3",
      "version": "3.10.9"
    }
  },
  "nbformat": 4,
  "nbformat_minor": 0
}
