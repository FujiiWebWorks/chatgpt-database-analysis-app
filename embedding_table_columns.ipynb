{
  "cells": [
    {
      "attachments": {},
      "cell_type": "markdown",
      "metadata": {
        "id": "3Wbr7fsIlAcS"
      },
      "source": [
        "# Embeddingを各テーブルカラムに適用\n",
        "\n",
        "https://platform.openai.com/docs/guides/embeddings/what-are-embeddings\n",
        "\n",
        "ユーザーからのクエリ(INPUT)に関連するテーブル情報を抽出するため、カラムごとにEmbeddingベクター情報を事前に付与します。"
      ]
    },
    {
      "cell_type": "code",
      "execution_count": null,
      "metadata": {},
      "outputs": [],
      "source": [
        "# Pythonライブラリインストール\n",
        "!python --version\n",
        "!pip install psycopg2-binary\n",
        "!pip install python-dotenv\n",
        "!pip install --upgrade openai\n",
        "!pip install openai[datalib]\n",
        "\n",
        "!pip install pandas\n",
        "!pip install numpy\n",
        "!pip install matplotlib\n",
        "!pip install plotly\n",
        "!pip install scikit-learn\n",
        "!pip install sqlalchemy\n"
      ]
    },
    {
      "attachments": {},
      "cell_type": "markdown",
      "metadata": {},
      "source": [
        "## 環境変数\n",
        "supabase接続用URL,APIキーと、openai api接続用のAPIキーを設定します。\n",
        "自身のopenaiアカウントからapi keyを取得してください。\n",
        "\n",
        "https://platform.openai.com/account/api-keys\n",
        "\n",
        "supabaseの情報は管理者にお尋ねください。\n",
        "\n",
        "下記の例では、.envファイルに変数を書き込んで、JupiterNotebookで読み込む仕様で実装しております。\n",
        "\n",
        "※.envファイルの作成が困難、.envファイルから値を読み込めない場合、\n",
        "　os.getenv(\"◯◯\")部分に変数値を直接書き込んでいただいても動作自体には問題ありません。"
      ]
    },
    {
      "cell_type": "code",
      "execution_count": 1,
      "metadata": {
        "colab": {
          "base_uri": "https://localhost:8080/",
          "height": 17
        },
        "id": "4XTDUNmukjRT",
        "outputId": "263e8bb3-d37d-464e-e9db-28693cb5bfc1"
      },
      "outputs": [
        {
          "name": "stdout",
          "output_type": "stream",
          "text": [
            "環境変数読み込み完了\n"
          ]
        }
      ],
      "source": [
        "# 環境変数\n",
        "import os\n",
        "from dotenv import load_dotenv\n",
        "load_dotenv()\n",
        "\n",
        "# supabase接続用変数\n",
        "db_host = os.getenv(\"DB_HOST\")\n",
        "db_port = os.getenv(\"DB_PORT\")\n",
        "db_name = os.getenv(\"DB_NAME\")\n",
        "db_user = os.getenv(\"DB_USER\")\n",
        "db_pass = os.getenv(\"DB_PASS\")\n",
        "\n",
        "# OPENAI API KEY\n",
        "openai_api_key = os.getenv(\"OPENAI_API_KEY\")\n",
        "\n",
        "print('環境変数読み込み完了')"
      ]
    },
    {
      "attachments": {},
      "cell_type": "markdown",
      "metadata": {},
      "source": [
        "# 「table_columns_metadata」テーブルに対してAPIを適用\n",
        "\n",
        "参考: https://stackoverflow.com/questions/74000154/customize-fine-tune-openai-model-how-to-make-sure-answers-are-from-customized/75192794#75192794"
      ]
    },
    {
      "cell_type": "code",
      "execution_count": 5,
      "metadata": {
        "colab": {
          "base_uri": "https://localhost:8080/"
        },
        "id": "gkBzMSLwewf6",
        "outputId": "3b84bb5b-29c8-47ee-87e7-52a5394c9efe"
      },
      "outputs": [
        {
          "data": {
            "text/plain": [
              "2"
            ]
          },
          "execution_count": 5,
          "metadata": {},
          "output_type": "execute_result"
        }
      ],
      "source": [
        "import openai\n",
        "import pandas as pd\n",
        "from sqlalchemy import create_engine\n",
        "import urllib.parse\n",
        "from IPython.display import display\n",
        "\n",
        "# Use your API key\n",
        "openai.api_key = openai_api_key\n",
        "\n",
        "# Connect to the database\n",
        "connection_config = {\n",
        "    'user': db_user,\n",
        "    'password': urllib.parse.quote_plus(db_pass),\n",
        "    'host': db_host,\n",
        "    'port': db_port, \n",
        "    'database': db_name\n",
        "}\n",
        "#sql = 'SELECT * FROM table_column_metadata ORDER BY id ASC;'\n",
        "sql = 'SELECT * FROM table_column_metadata2 ORDER BY id ASC;'\n",
        "engine = create_engine('postgresql://{user}:{password}@{host}:{port}/{database}'.format(**connection_config))\n",
        "\n",
        "\n",
        "# Calculate embedding vector for the input using OpenAI Embeddings endpoint\n",
        "def get_embedding(input: str) -> list[float]:\n",
        "    result = openai.Embedding.create(\n",
        "        model = 'text-embedding-ada-002',\n",
        "        input = input\n",
        "    )   \n",
        "    return result['data'][0]['embedding']\n",
        "\n",
        "\n",
        "# load data from postgre\n",
        "df = pd.read_sql(sql=sql, con=engine)\n",
        "\n",
        "df['embedding'] = df['description'].apply(lambda x: get_embedding(x))\n",
        "\n",
        "display(df)\n",
        "\n",
        "# INSERT as new rows\n",
        "df.to_sql('table_column_metadata2', con=engine, if_exists='replace', index=False)\n"
      ]
    }
  ],
  "metadata": {
    "colab": {
      "provenance": []
    },
    "kernelspec": {
      "display_name": "Python 3",
      "name": "python3"
    },
    "language_info": {
      "codemirror_mode": {
        "name": "ipython",
        "version": 3
      },
      "file_extension": ".py",
      "mimetype": "text/x-python",
      "name": "python",
      "nbconvert_exporter": "python",
      "pygments_lexer": "ipython3",
      "version": "3.10.9"
    }
  },
  "nbformat": 4,
  "nbformat_minor": 0
}
