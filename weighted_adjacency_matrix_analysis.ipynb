{
  "cells": [
    {
      "attachments": {},
      "cell_type": "markdown",
      "metadata": {
        "id": "3Wbr7fsIlAcS"
      },
      "source": [
        "# 重み付き有向グラフを用いたマウス脳内の投射関係解析\n",
        "\n",
        "マウス脳の注射実験データを統合して、各脳部位間の重み付き有向グラフを作成しました。\n",
        "\n",
        "重みには\"normalized-projection-volume\"をはじめ、各パラメータの平均値を記録しました。"
      ]
    },
    {
      "cell_type": "code",
      "execution_count": null,
      "metadata": {},
      "outputs": [],
      "source": [
        "# Pythonライブラリインストール\n",
        "# ※Python 3.10.x　使用推奨\n",
        "!python --version\n",
        "!pip install python-dotenv\n",
        "!pip install --upgrade openai\n",
        "!pip install openai[datalib]\n",
        "\n",
        "!pip install pandas\n",
        "!pip install numpy\n",
        "!pip install matplotlib\n",
        "!pip install plotly\n",
        "!pip install scikit-learn\n",
        "!pip install sqlalchemy"
      ]
    },
    {
      "attachments": {},
      "cell_type": "markdown",
      "metadata": {},
      "source": [
        "## 環境変数\n",
        "supabase接続用URL,APIキーと、openai api接続用のAPIキーを設定します。\n",
        "自身のopenaiアカウントからapi keyを取得してください。\n",
        "\n",
        "https://platform.openai.com/account/api-keys\n",
        "\n",
        "supabaseの情報は管理者にお尋ねください。\n",
        "\n",
        "下記の例では、.envファイルに変数を書き込んで、JupiterNotebookで読み込む仕様で実装しております。\n",
        "\n",
        "※.envファイルの作成が困難、.envファイルから値を読み込めない場合、\n",
        "　os.getenv(\"◯◯\")部分に変数値を直接書き込んでいただいても動作自体には問題ありません。"
      ]
    },
    {
      "cell_type": "code",
      "execution_count": 65,
      "metadata": {
        "colab": {
          "base_uri": "https://localhost:8080/",
          "height": 17
        },
        "id": "4XTDUNmukjRT",
        "outputId": "263e8bb3-d37d-464e-e9db-28693cb5bfc1"
      },
      "outputs": [
        {
          "name": "stdout",
          "output_type": "stream",
          "text": [
            "環境変数読み込み完了\n"
          ]
        }
      ],
      "source": [
        "# 環境変数\n",
        "import os\n",
        "from dotenv import load_dotenv\n",
        "\n",
        "import pandas as pd\n",
        "from sqlalchemy import create_engine\n",
        "from sqlalchemy import text\n",
        "import urllib.parse\n",
        "from IPython.display import display\n",
        "import openai\n",
        "\n",
        "load_dotenv()\n",
        "\n",
        "# supabase接続用変数\n",
        "db_host = os.getenv(\"DB_HOST\")\n",
        "db_port = os.getenv(\"DB_PORT\")\n",
        "db_name = os.getenv(\"DB_NAME\")\n",
        "db_user = os.getenv(\"DB_USER\")\n",
        "db_pass = os.getenv(\"DB_PASS\")\n",
        "\n",
        "# OPENAI API KEY\n",
        "openai_api_key = os.getenv(\"OPENAI_API_KEY\")\n",
        "openai.api_key = openai_api_key\n",
        "\n",
        "# Connect to the database\n",
        "connection_config = {\n",
        "    'user': db_user,\n",
        "    'password': urllib.parse.quote_plus(db_pass),\n",
        "    'host': db_host,\n",
        "    'port': db_port, \n",
        "    'database': db_name\n",
        "}\n",
        "engine = create_engine('postgresql://{user}:{password}@{host}:{port}/{database}'.format(**connection_config))\n",
        "\n",
        "\n",
        "print('環境変数読み込み完了')"
      ]
    },
    {
      "attachments": {},
      "cell_type": "markdown",
      "metadata": {},
      "source": [
        "# 処理実行\n",
        "## 重み付き隣接行列（有向グラフ）の作成\n",
        "\n",
        "重みの閾値、有向グラフのノード数の上限値を設定します。\n",
        "\n",
        "脳構造名または頭字語でのラベリング、重み付けを整数値, 浮動小数点で行うなど様々なパターンでのグラフを生成しています。\n",
        "（次のステップでどのグラフをpromptに付与するかを設定します。）"
      ]
    },
    {
      "cell_type": "code",
      "execution_count": null,
      "metadata": {},
      "outputs": [],
      "source": [
        "# 重みに採用するパラメータ。下記から選択してください。\n",
        "# normalized-projection-volume, projection-density, projection-energy, projection-intensity, projection-volume\n",
        "column_name = \"normalized-projection-volume\"\n",
        "# 重みの閾値。閾値以下のデータは参照されません。\n",
        "threshold_value = 0.1\n",
        "# 有向グラフのノード数の上限値\n",
        "threshold_rank = 5\n",
        "\n",
        "sql =f\"\"\"\n",
        "SELECT\n",
        "    pg.\"{column_name}\",\n",
        "    pg.\"injected-structure-id\",\n",
        "    pg.\"projected-structure-id\",\n",
        "    si.name AS \"injected-structure-name\",\n",
        "    si.acronym AS \"injected-structure-acronym\",\n",
        "    sp.name AS \"projected-structure-name\",\n",
        "    sp.acronym AS \"projected-structure-acronym\"\n",
        "FROM projection_graphs AS pg\n",
        "    INNER JOIN structures AS si ON pg.\"injected-structure-id\" = si.id\n",
        "    INNER JOIN structures AS sp ON pg.\"projected-structure-id\" = sp.id\n",
        "WHERE\n",
        "    pg.\"{column_name}\" > {threshold_value}\n",
        "    AND si.\"st-level\" > 5\n",
        "    AND sp.\"st-level\" > 5\n",
        "ORDER BY \n",
        "    pg.\"{column_name}\" DESC\n",
        "\"\"\"\n",
        "with engine.begin() as conn:\n",
        "    query = text(sql)\n",
        "    df = pd.read_sql_query(query, conn)\n",
        "    display(df)\n",
        "\n",
        "\n",
        "# 重み付き隣接行列をJSONとして書き出し\n",
        "acronym_edges = []\n",
        "name_edges = []\n",
        "acronym_matrix = {}\n",
        "acronym_matrix_int = {}\n",
        "acronym_matrix_float = {}\n",
        "name_matrix = {}\n",
        "acronym_dict = {}\n",
        "for index, row in df.iterrows():\n",
        "    acronym_dict[row[\"projected-structure-acronym\"]] = row[\"projected-structure-name\"]\n",
        "    acronym_dict[row[\"injected-structure-acronym\"]] = row[\"injected-structure-name\"]\n",
        "    # Check if the key is not in the matrix\n",
        "    if row[\"injected-structure-acronym\"] not in acronym_matrix:\n",
        "        acronym_matrix[row[\"injected-structure-acronym\"]] = []\n",
        "        acronym_matrix_int[row[\"injected-structure-acronym\"]] = {}\n",
        "        acronym_matrix_float[row[\"injected-structure-acronym\"]] = {}\n",
        "        name_matrix[row[\"injected-structure-name\"]] = {}\n",
        "\n",
        "    # Add the value to the nested dictionary\n",
        "    if len(acronym_matrix[row[\"injected-structure-acronym\"]]) < threshold_rank: \n",
        "        acronym_matrix[row[\"injected-structure-acronym\"]].append(row[\"projected-structure-acronym\"])\n",
        "        acronym_matrix_int[row[\"injected-structure-acronym\"]][row[\"projected-structure-acronym\"]]=int(row[column_name])\n",
        "        acronym_matrix_float[row[\"injected-structure-acronym\"]][row[\"projected-structure-acronym\"]]=float(row[column_name])\n",
        "        name_matrix[row[\"injected-structure-name\"]][row[\"projected-structure-name\"]]=int(row[column_name])\n",
        "        acronym_edges.append({\n",
        "            \"source\": row[\"injected-structure-acronym\"],\n",
        "            \"target\": row[\"projected-structure-acronym\"]\n",
        "        })\n",
        "        name_edges.append({\n",
        "            \"source\": row[\"injected-structure-name\"],\n",
        "            \"target\": row[\"projected-structure-name\"]\n",
        "        })\n",
        "\n",
        "print(len(acronym_edges))\n",
        "print(acronym_edges)\n",
        "print(name_edges)\n",
        "print(len(acronym_matrix))\n",
        "print(acronym_matrix)\n",
        "print(acronym_matrix_int)\n",
        "print(acronym_matrix_float)\n",
        "print(name_matrix)\n",
        "\n",
        "print(len(acronym_dict))\n",
        "print(acronym_dict)"
      ]
    },
    {
      "attachments": {},
      "cell_type": "markdown",
      "metadata": {},
      "source": [
        "## OpenAI Completion APIを用いて洞察を得る\n",
        "\n",
        "教授と学生というロールモデルを用いて、解析情報を報告するというかたちでCompletion APIを使用しました。\n",
        "\n"
      ]
    },
    {
      "cell_type": "code",
      "execution_count": null,
      "metadata": {},
      "outputs": [],
      "source": [
        "# OpenAI Completion APIを呼び出します。第2引数は有向グラフを送信するかどうか。第3引数は有向グラフに重み情報を付加するかどうかのフラグです。\n",
        "def request_for_insight(query:str, is_sending_matrix:bool=True, is_Weighted=True):\n",
        "    print(\"----\")\n",
        "    print(f\"Q. {query}\")\n",
        "\n",
        "    msg=[]\n",
        "    msg.append({\"role\": \"system\", \"content\": \"You are a professor majoring in mouse brain connectivity. And you have a student analyzing experiment data and studying the neural connections in the mouse brain. In this experiment, a viral tracer is injected into a specimen that labels the axons by expressing a fluorescent protein, and the labeled axons are visualized using serial two-photon tomography.\"})\n",
        "    if is_sending_matrix:\n",
        "\n",
        "      if is_Weighted:\n",
        "        msg.append({\"role\": \"system\", \"content\": f\"You have a weighted adjacency matrix (JSON) of each mouse brain structure. It shows {column_name} from injected brain structure to the projected brain structure. \\n----\\n{acronym_matrix_int}\"})\n",
        "      else:\n",
        "        msg.append({\"role\": \"system\", \"content\": f\"You have an adjacency matrix (JSON) of each mouse brain structure. It shows relationships from injected brain structure to the projected brain structure. \\n----\\n{acronym_matrix}\"})\n",
        "      \n",
        "      #msg.append({\"role\": \"system\", \"content\": f\"You have a list of edges (JSON) on each mouse brain structure. It shows connectivity from injected brain structure to the projected brain structure. \\n----\\n{edges}\"})\n",
        "      #msg.append({\"role\": \"system\", \"content\": f\"You have a acronym dictionary (JSON). \\n----\\n{acronym_dict}\"})\n",
        "      \n",
        "    msg.append({\"role\": \"user\", \"content\": query})\n",
        "    \n",
        "    completion = openai.ChatCompletion.create(\n",
        "      model=\"gpt-4\",\n",
        "      messages=msg,\n",
        "      temperature=0.2\n",
        "    )\n",
        "    print(f\"A. {completion.choices[0].message.content}\")\n",
        "    print(\"----\")\n",
        "    print(msg)\n",
        "    print(completion)\n",
        "\n",
        "queries = [\n",
        "  \"What is the projection relationship from the frontal pole with respect to the mouse brain? Tell me as more details as possible.\",\n",
        "  \"What are the main brain regions that project to the frontal pole with respect to the mouse brain? Tell me as more details as possible.\",\n",
        "  \"From the point of view of the mouse brain projection connectivity, what is the most similar brain region to the frontal pole? Tell me the reasons as much as you can.\",\n",
        "  ]\n",
        "\n",
        "for query in queries:\n",
        "  print(\"Completion A. 事前情報なし\")\n",
        "  print(request_for_insight(query, False, False))\n",
        "  print(f\"Completion D.事前情報あり 投射量閾値:{threshold_value} 有向ノード閾値:{threshold_rank}\")\n",
        "  request_for_insight(query, True, False)"
      ]
    }
  ],
  "metadata": {
    "colab": {
      "provenance": []
    },
    "kernelspec": {
      "display_name": "Python 3",
      "name": "python3"
    },
    "language_info": {
      "codemirror_mode": {
        "name": "ipython",
        "version": 3
      },
      "file_extension": ".py",
      "mimetype": "text/x-python",
      "name": "python",
      "nbconvert_exporter": "python",
      "pygments_lexer": "ipython3",
      "version": "3.10.9"
    }
  },
  "nbformat": 4,
  "nbformat_minor": 0
}
